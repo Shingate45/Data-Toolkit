{
 "cells": [
  {
   "cell_type": "markdown",
   "id": "8b556e9b-8002-49d2-8946-f62a48fdf7b6",
   "metadata": {},
   "source": [
    "# What is NumPy, and why is it widely used in Python?\n",
    "NumPy is a Python library for numerical computing. It provides support for large multi-dimensional arrays and matrices, along with a collection of mathematical functions. It's widely used due to its speed, efficiency, and powerful capabilities.\n",
    "\n",
    "# How does broadcasting work in NumPy?\n",
    "Broadcasting allows NumPy to perform operations on arrays of different shapes by automatically expanding them to compatible shapes.\n",
    "\n",
    "# What is a Pandas DataFrame?\n",
    "A DataFrame is a 2D, size-mutable, and heterogeneous tabular data structure with labeled axes (rows and columns) in the Pandas library.\n",
    "\n",
    "# Explain the use of the groupby() method in Pandas.\n",
    "groupby() is used to group data based on one or more columns and perform aggregate functions like sum, mean, etc., on each group.\n",
    "\n",
    "# Why is Seaborn preferred for statistical visualizations?\n",
    "Seaborn provides high-level interface for drawing attractive and informative statistical graphics like box plots, violin plots, and heatmaps.\n",
    "\n",
    "# What are the differences between NumPy arrays and Python lists?\n",
    "\n",
    "NumPy arrays are faster and more memory-efficient.\n",
    "\n",
    "Arrays support element-wise operations.\n",
    "\n",
    "Arrays must have elements of the same type.\n",
    "\n",
    "# What is a heatmap, and when should it be used?\n",
    "A heatmap is a data visualization tool that uses color to show the magnitude of values. It’s used for visualizing correlation matrices or frequency data.\n",
    "\n",
    "# What does the term “vectorized operation” mean in NumPy?\n",
    "Vectorized operations allow batch processing of data without writing loops, resulting in faster and more readable code.\n",
    "\n",
    "# How does Matplotlib differ from Plotly?\n",
    "\n",
    "Matplotlib is static and great for traditional plots.\n",
    "\n",
    "Plotly is interactive and better for web applications.\n",
    "\n",
    "# What is the significance of hierarchical indexing in Pandas?\n",
    "It allows for multiple index levels (multi-indexing), which supports complex data representations and advanced data selection.\n",
    "\n",
    "# What is the role of Seaborn’s pairplot() function?\n",
    "pairplot() is used to plot pairwise relationships in a dataset, showing scatterplots for each variable combination and histograms on the diagonal.\n",
    "\n",
    "# What is the purpose of the describe() function in Pandas?\n",
    "describe() provides a summary of statistics (mean, std, min, max, etc.) for each numerical column in a DataFrame.\n",
    "\n",
    "# Why is handling missing data important in Pandas?\n",
    "Missing data can skew analysis. Pandas provides tools to identify, fill, or drop missing data to maintain data integrity.\n",
    "\n",
    "# What are the benefits of using Plotly for data visualization?\n",
    "\n",
    "Interactive plots\n",
    "\n",
    "Zoom and hover features\n",
    "\n",
    "Easy to integrate with web apps\n",
    "\n",
    "# How does NumPy handle multidimensional arrays?\n",
    "NumPy uses ndarray objects that can be multi-dimensional (1D, 2D, 3D, etc.), and it offers functions to reshape, slice, and manipulate these arrays efficiently.\n",
    "\n",
    "# What is the role of Bokeh in data visualization?\n",
    "Bokeh is used for creating interactive and browser-friendly visualizations using JavaScript, ideal for dashboards and web apps.\n",
    "\n",
    "Explain the difference between apply() and map() in Pandas.\n",
    "\n",
    "map() works on Series and is used for element-wise operations.\n",
    "\n",
    "apply() can be used on both Series and DataFrames and supports row/column-wise operations.\n",
    "\n",
    "# What are some advanced features of NumPy?\n",
    "\n",
    "Broadcasting\n",
    "\n",
    "Fancy indexing\n",
    "\n",
    "Universal functions (ufuncs)\n",
    "\n",
    "Linear algebra and Fourier transforms\n",
    "\n",
    "# How does Pandas simplify time series analysis?\n",
    "Pandas has built-in support for time-series data (datetime indexing, resampling, frequency conversion, etc.), making analysis simple and efficient.\n",
    "\n",
    "# What is the role of a pivot table in Pandas?\n",
    "A pivot table is used to summarize and aggregate data by reshaping it based on column values.\n",
    "\n",
    "# What are some common use cases for Seaborn?\n",
    "\n",
    "Visualizing distributions (histograms, KDE)\n",
    "\n",
    "Heatmaps for correlation\n",
    "\n",
    "Box plots, violin plots\n",
    "\n",
    "Pairwise scatter plots with pairplot"
   ]
  },
  {
   "cell_type": "code",
   "execution_count": 1,
   "id": "a4bd8a28-25e6-4fa8-99cf-6fcb9f943f5e",
   "metadata": {},
   "outputs": [],
   "source": [
    "#2D NumPy array and sum of each row:\n",
    "import numpy as np\n",
    "arr = np.array([[1, 2], [3, 4]])\n",
    "row_sums = np.sum(arr, axis=1)\n"
   ]
  },
  {
   "cell_type": "code",
   "execution_count": 4,
   "id": "3d020d01-09fd-4453-84b5-47aef4771269",
   "metadata": {},
   "outputs": [],
   "source": [
    "#Pandas script to find mean of a column:\n",
    "import pandas as pd\n",
    "df = pd.DataFrame({'A': [10, 20, 30]})\n",
    "mean_val = df['A'].mean()\n"
   ]
  },
  {
   "cell_type": "code",
   "execution_count": 3,
   "id": "c29b9114-699e-4355-889f-122336d6463c",
   "metadata": {},
   "outputs": [
    {
     "data": {
      "image/png": "[encoded data removed]",
      "text/plain": [
       "<Figure size 640x480 with 1 Axes>"
      ]
     },
     "metadata": {},
     "output_type": "display_data"
    }
   ],
   "source": [
    "#Scatter plot using Matplotlib:\n",
    "import matplotlib.pyplot as plt\n",
    "x = [1, 2, 3]\n",
    "y = [4, 5, 6]\n",
    "plt.scatter(x, y)\n",
    "plt.show()\n"
   ]
  },
  {
   "cell_type": "code",
   "execution_count": null,
   "id": "2fb6ec9c-6727-417f-a06a-b6c8289c3c73",
   "metadata": {},
   "outputs": [],
   "source": [
    "#Correlation matrix with Seaborn and heatmap:\n",
    "import seaborn as sns\n",
    "import pandas as pd\n",
    "import matplotlib.pyplot as plt\n",
    "\n",
    "df = pd.DataFrame({'A': [1,2,3], 'B': [4,5,6], 'C':[7,8,9]})\n",
    "corr = df.corr()\n",
    "sns.heatmap(corr, annot=True)\n",
    "plt.show()\n"
   ]
  },
  {
   "cell_type": "code",
   "execution_count": null,
   "id": "e3b61afa-8082-4466-b331-489775ca0f36",
   "metadata": {},
   "outputs": [],
   "source": [
    "#Bar plot using Plotly:\n",
    "import plotly.express as px\n",
    "df = pd.DataFrame({'Fruit': ['Apple', 'Banana'], 'Count': [10, 20]})\n",
    "fig = px.bar(df, x='Fruit', y='Count')\n",
    "fig.show()\n"
   ]
  },
  {
   "cell_type": "code",
   "execution_count": null,
   "id": "d51acb6f-32a3-4c1e-aa35-6b48c9815ba3",
   "metadata": {},
   "outputs": [],
   "source": [
    "#Add new column to DataFrame:\n",
    "df['New'] = df['Count'] * 2\n"
   ]
  },
  {
   "cell_type": "code",
   "execution_count": 8,
   "id": "cbdea08f-d02d-46a8-89e8-d663e2a58298",
   "metadata": {},
   "outputs": [],
   "source": [
    "#Element-wise multiplication using NumPy:\n",
    "import numpy as np\n",
    "a = np.array([1, 2, 3])\n",
    "b = np.array([4, 5, 6])\n",
    "result = a * b\n"
   ]
  },
  {
   "cell_type": "code",
   "execution_count": null,
   "id": "9263e272-360c-4561-9271-994fbc4c5e7b",
   "metadata": {},
   "outputs": [],
   "source": [
    "#Line plot with multiple lines:\n",
    "x = [1, 2, 3]\n",
    "y1 = [2, 4, 6]\n",
    "y2 = [1, 3, 5]\n",
    "plt.plot(x, y1, label='Line 1')\n",
    "plt.plot(x, y2, label='Line 2')\n",
    "plt.legend()\n",
    "plt.show()\n"
   ]
  },
  {
   "cell_type": "code",
   "execution_count": null,
   "id": "f9fe2025-c81d-4b5e-b356-b2955484a951",
   "metadata": {},
   "outputs": [],
   "source": [
    "#Filter rows from DataFrame:\n",
    "df = pd.DataFrame({'Score': [60, 90, 70]})\n",
    "filtered = df[df['Score'] > 65]\n"
   ]
  },
  {
   "cell_type": "code",
   "execution_count": null,
   "id": "135edecd-81ed-4d7f-878b-dace3ac32e61",
   "metadata": {},
   "outputs": [],
   "source": [
    "#Histogram using Seaborn:\n",
    "import seaborn as sns\n",
    "sns.histplot(data=df, x='Score')\n",
    "plt.show()\n"
   ]
  },
  {
   "cell_type": "code",
   "execution_count": null,
   "id": "f304c6f0-e6d1-4309-814c-1bc6c3a656be",
   "metadata": {},
   "outputs": [],
   "source": [
    "#Matrix multiplication using NumPy:\n",
    "a = np.array([[1, 2], [3, 4]])\n",
    "b = np.array([[5, 6], [7, 8]])\n",
    "result = np.dot(a, b)\n"
   ]
  },
  {
   "cell_type": "code",
   "execution_count": null,
   "id": "a05e8f79-bda5-465a-ae16-bd57bbfd6b7b",
   "metadata": {},
   "outputs": [],
   "source": [
    "#Load CSV and show first 5 rows:\n",
    "df = pd.read_csv('file.csv')\n",
    "print(df.head())\n"
   ]
  }
 ],
 "metadata": {
  "kernelspec": {
   "display_name": "Python 3 (ipykernel)",
   "language": "python",
   "name": "python3"
  },
  "language_info": {
   "codemirror_mode": {
    "name": "ipython",
    "version": 3
   },
   "file_extension": ".py",
   "mimetype": "text/x-python",
   "name": "python",
   "nbconvert_exporter": "python",
   "pygments_lexer": "ipython3",
   "version": "3.12.4"
  }
 },
 "nbformat": 4,
 "nbformat_minor": 5
}
